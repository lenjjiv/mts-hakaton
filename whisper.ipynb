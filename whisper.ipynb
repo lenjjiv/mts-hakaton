{
 "cells": [
  {
   "cell_type": "code",
   "execution_count": 1,
   "id": "9bf7af08-ce3d-4e7f-8d98-07e3170a3f81",
   "metadata": {},
   "outputs": [
    {
     "ename": "ModuleNotFoundError",
     "evalue": "No module named 'sounddevice'",
     "output_type": "error",
     "traceback": [
      "\u001b[0;31m---------------------------------------------------------------------------\u001b[0m",
      "\u001b[0;31mModuleNotFoundError\u001b[0m                       Traceback (most recent call last)",
      "Cell \u001b[0;32mIn[1], line 3\u001b[0m\n\u001b[1;32m      1\u001b[0m \u001b[38;5;28;01mimport\u001b[39;00m\u001b[38;5;250m \u001b[39m\u001b[38;5;21;01mwhisper\u001b[39;00m\n\u001b[1;32m      2\u001b[0m \u001b[38;5;28;01mimport\u001b[39;00m\u001b[38;5;250m \u001b[39m\u001b[38;5;21;01mtorch\u001b[39;00m\n\u001b[0;32m----> 3\u001b[0m \u001b[38;5;28;01mimport\u001b[39;00m\u001b[38;5;250m \u001b[39m\u001b[38;5;21;01msounddevice\u001b[39;00m\u001b[38;5;250m \u001b[39m\u001b[38;5;28;01mas\u001b[39;00m\u001b[38;5;250m \u001b[39m\u001b[38;5;21;01msd\u001b[39;00m\n\u001b[1;32m      4\u001b[0m \u001b[38;5;28;01mimport\u001b[39;00m\u001b[38;5;250m \u001b[39m\u001b[38;5;21;01mnumpy\u001b[39;00m\u001b[38;5;250m \u001b[39m\u001b[38;5;28;01mas\u001b[39;00m\u001b[38;5;250m \u001b[39m\u001b[38;5;21;01mnp\u001b[39;00m\n\u001b[1;32m      5\u001b[0m \u001b[38;5;28;01mimport\u001b[39;00m\u001b[38;5;250m \u001b[39m\u001b[38;5;21;01mqueue\u001b[39;00m\n",
      "\u001b[0;31mModuleNotFoundError\u001b[0m: No module named 'sounddevice'"
     ]
    }
   ],
   "source": [
    "import whisper\n",
    "import torch\n",
    "import numpy as np\n",
    "import queue\n",
    "import time\n",
    "from pydub import AudioSegment\n",
    "\n",
    "# ⚡ Выбираем устройство (GPU или CPU)\n",
    "device = \"cuda\" if torch.cuda.is_available() else \"cpu\"\n",
    "print(f\"🎯 Используем устройство: {device}\")\n",
    "\n",
    "# ⚙️ Загружаем модель Whisper\n",
    "model = whisper.load_model(\"medium\", device=device)  # Можно \"small\" или \"large\"\n",
    "\n",
    "# 🎵 Загружаем MP3-файл\n",
    "AUDIO_FILE = \"example.mp3\"\n",
    "audio = AudioSegment.from_mp3(AUDIO_FILE).set_frame_rate(16000).set_channels(1)\n",
    "\n",
    "# 📌 Конвертируем в numpy\n",
    "samples = np.array(audio.get_array_of_samples()).astype(np.float32) / 32768.0  # Нормализация\n",
    "\n",
    "# 🎤 Параметры обработки\n",
    "SAMPLERATE = 16000\n",
    "CHUNK_DURATION = 5  # Длина чанка в секундах\n",
    "OVERLAP = 2         # Перекрытие для плавности\n",
    "CHUNK_SIZE = CHUNK_DURATION * SAMPLERATE\n",
    "OVERLAP_SIZE = OVERLAP * SAMPLERATE\n",
    "QUEUE = queue.Queue()\n",
    "\n",
    "# 🔄 Буфер аудио\n",
    "audio_buffer = np.zeros(CHUNK_SIZE + OVERLAP_SIZE, dtype=\"float32\")\n",
    "last_text = \"\"\n",
    "\n",
    "# 🔄 Симуляция потока\n",
    "def stream_audio(data, chunk_size):\n",
    "    for start in range(0, len(data), chunk_size):\n",
    "        chunk = data[start:start + chunk_size]\n",
    "        if len(chunk) < chunk_size:\n",
    "            break  # Конец аудио\n",
    "        QUEUE.put(chunk)\n",
    "        time.sleep(chunk_size / SAMPLERATE)  # Имитация реального времени\n",
    "\n",
    "# 🚀 Запуск потока\n",
    "print(\"🔄 Стриминг MP3...\")\n",
    "stream_audio(samples, CHUNK_SIZE)\n",
    "\n",
    "# 🔍 Обработка чанков\n",
    "while not QUEUE.empty():\n",
    "    new_data = QUEUE.get()\n",
    "\n",
    "    # 🔄 Сдвиг буфера и добавление новых данных\n",
    "    audio_buffer[:-len(new_data)] = audio_buffer[len(new_data):]\n",
    "    audio_buffer[-len(new_data):] = new_data\n",
    "\n",
    "    # 🎙️ Транскрибируем\n",
    "    print(\"🔍 Распознаём...\")\n",
    "    result = model.transcribe(audio_buffer, language=\"ru\")\n",
    "\n",
    "    # 📜 Получаем текст\n",
    "    current_text = result[\"text\"].strip()\n",
    "\n",
    "    # 🔥 Вывод финального текста\n",
    "    print(f\"📜 Распознанный текст: {current_text}\")\n",
    "    print(\"=\" * 50)\n",
    "\n",
    "print(\"✅ Завершено!\")\n"
   ]
  },
  {
   "cell_type": "code",
   "execution_count": null,
   "id": "c894d8a9-ae99-4a0d-b71b-ee9bb467630f",
   "metadata": {},
   "outputs": [],
   "source": []
  }
 ],
 "metadata": {
  "kernelspec": {
   "display_name": "Python 3 (ipykernel)",
   "language": "python",
   "name": "python3"
  },
  "language_info": {
   "codemirror_mode": {
    "name": "ipython",
    "version": 3
   },
   "file_extension": ".py",
   "mimetype": "text/x-python",
   "name": "python",
   "nbconvert_exporter": "python",
   "pygments_lexer": "ipython3",
   "version": "3.9.21"
  }
 },
 "nbformat": 4,
 "nbformat_minor": 5
}
