{
 "cells": [
  {
   "cell_type": "code",
   "execution_count": 1,
   "metadata": {},
   "outputs": [
    {
     "data": {
      "text/plain": [
       "'2.5.0'"
      ]
     },
     "execution_count": 1,
     "metadata": {},
     "output_type": "execute_result"
    }
   ],
   "source": [
    "import torch\n",
    "torch.__version__"
   ]
  },
  {
   "cell_type": "code",
   "execution_count": 2,
   "metadata": {},
   "outputs": [
    {
     "name": "stderr",
     "output_type": "stream",
     "text": [
      "Using cache found in /root/.cache/torch/hub/snakers4_silero-models_master\n"
     ]
    }
   ],
   "source": [
    "import torch\n",
    "\n",
    "language = 'ru'\n",
    "model_id = 'v4_ru'\n",
    "device = torch.device('cuda')\n",
    "\n",
    "model, example_text = torch.hub.load(\n",
    "    repo_or_dir='snakers4/silero-models',\n",
    "    model='silero_tts',\n",
    "    language=language,\n",
    "    speaker=model_id\n",
    ")\n",
    "\n",
    "model.to(device)"
   ]
  },
  {
   "cell_type": "code",
   "execution_count": 6,
   "metadata": {},
   "outputs": [
    {
     "name": "stdout",
     "output_type": "stream",
     "text": [
      "CPU times: user 2.35 s, sys: 16.8 ms, total: 2.36 s\n",
      "Wall time: 1.1 s\n"
     ]
    }
   ],
   "source": [
    "%%time\n",
    "ssml_sample = \"\"\"\n",
    "<speak>\n",
    "<p>\n",
    "    Когда я просыпаюсь, <prosody rate=\"x-slow\">я говорю довольно медленно</prosody>.\n",
    "    Пот+ом я начиdнаю говорить своим обычным голосом,\n",
    "    <prosody pitch=\"x-high\"> а могу говорить тоном выше </prosody>,\n",
    "    или <prosody pitch=\"x-low\">наоборот, ниже</prosody>.\n",
    "    Пот+ом, если повезет – <prosody rate=\"fast\">я могу говориdть и довольно быстро.</prosody>\n",
    "    А еще я умею делать паузы любой длины, например, две секунды <break time=\"2000ms\"/>.\n",
    "    <p>\n",
    "    Также я умею делать паузы меdжду параграфами.\n",
    "    </p>\n",
    "    <p>\n",
    "    <s>И также я умею делать паузы между предложениями</s>\n",
    "    <s>Вот например как сейчас</s>\n",
    "    </p>\n",
    "</p>\n",
    "</speak>\n",
    "\"\"\"\n",
    "\n",
    "sample_rate = 24000\n",
    "speaker = 'eugene'\n",
    "put_accent=True\n",
    "put_yo=True\n",
    "\n",
    "audio = model.apply_tts(\n",
    "    ssml_text=ssml_sample,\n",
    "    speaker=speaker,\n",
    "    sample_rate=sample_rate,\n",
    "    put_accent=put_accent,\n",
    "    put_yo=put_yo\n",
    ")"
   ]
  },
  {
   "cell_type": "code",
   "execution_count": 8,
   "metadata": {},
   "outputs": [],
   "source": [
    "import torchaudio\n",
    "from IPython.display import Audio, display\n",
    "\n",
    "if audio.dim() == 1:\n",
    "    audio = audio.unsqueeze(0)\n",
    "\n",
    "torchaudio.save(\"output_ta.mp3\", audio, sample_rate)"
   ]
  }
 ],
 "metadata": {
  "kernelspec": {
   "display_name": "pytorch",
   "language": "python",
   "name": "python3"
  },
  "language_info": {
   "codemirror_mode": {
    "name": "ipython",
    "version": 3
   },
   "file_extension": ".py",
   "mimetype": "text/x-python",
   "name": "python",
   "nbconvert_exporter": "python",
   "pygments_lexer": "ipython3",
   "version": "3.9.21"
  }
 },
 "nbformat": 4,
 "nbformat_minor": 2
}
