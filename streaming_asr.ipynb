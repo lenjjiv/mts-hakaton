{
 "cells": [
  {
   "cell_type": "code",
   "execution_count": 1,
   "id": "0b2e5359-dc09-416f-abb2-c46c5ce9085f",
   "metadata": {},
   "outputs": [
    {
     "name": "stdout",
     "output_type": "stream",
     "text": [
      "Загрузка модели Whisper...\n",
      "Модель загружена!\n"
     ]
    }
   ],
   "source": [
    "import sounddevice as sd\n",
    "import numpy as np\n",
    "import whisper\n",
    "import queue\n",
    "import torch\n",
    "\n",
    "# Параметры записи\n",
    "SAMPLERATE = 16000  # Частота дискретизации (Whisper требует 16kHz)\n",
    "CHANNELS = 1        # Один канал (моно)\n",
    "CHUNK_DURATION = 5  # Длина каждого куска в секундах\n",
    "OVERLAP = 2         # Перекрытие между кусками в секундах\n",
    "MODEL_SIZE = \"medium\"  # Можно \"tiny\", \"base\", \"small\", \"medium\", \"large\"\n",
    "LANGUAGE = \"ru\"  # Язык распознавания\n",
    "\n",
    "# Очередь для хранения аудиоданных\n",
    "audio_queue = queue.Queue()\n",
    "\n",
    "# Загрузка модели\n",
    "print(\"Загрузка модели Whisper...\")\n",
    "device = \"cuda\" if torch.cuda.is_available() else \"cpu\"\n",
    "model = whisper.load_model(MODEL_SIZE, device=device)\n",
    "print(\"Модель загружена!\")"
   ]
  },
  {
   "cell_type": "code",
   "execution_count": 2,
   "id": "b3636825-1b1d-4408-b630-1d4da4d5fe05",
   "metadata": {},
   "outputs": [
    {
     "name": "stdout",
     "output_type": "stream",
     "text": [
      "Началась запись. Нажмите Ctrl+C для остановки.\n",
      "Обработка аудио...\n"
     ]
    },
    {
     "name": "stderr",
     "output_type": "stream",
     "text": [
      "C:\\Users\\1\\AppData\\Local\\Programs\\Python\\Python311\\Lib\\site-packages\\whisper\\transcribe.py:126: UserWarning: FP16 is not supported on CPU; using FP32 instead\n",
      "  warnings.warn(\"FP16 is not supported on CPU; using FP32 instead\")\n"
     ]
    },
    {
     "name": "stdout",
     "output_type": "stream",
     "text": [
      "📝 Распознанный текст: \n",
      "Обработка аудио...\n",
      "📝 Распознанный текст: \n",
      "Обработка аудио...\n",
      "📝 Распознанный текст: \n",
      "Обработка аудио...\n",
      "📝 Распознанный текст: \n",
      "Обработка аудио...\n",
      "📝 Распознанный текст: \n",
      "Обработка аудио...\n",
      "📝 Распознанный текст: \n",
      "Обработка аудио...\n",
      "📝 Распознанный текст: \n",
      "Обработка аудио...\n",
      "📝 Распознанный текст: \n",
      "Обработка аудио...\n",
      "📝 Распознанный текст: \n",
      "Обработка аудио...\n",
      "📝 Распознанный текст: \n",
      "Обработка аудио...\n",
      "📝 Распознанный текст: \n",
      "Обработка аудио...\n",
      "📝 Распознанный текст: \n",
      "Обработка аудио...\n",
      "📝 Распознанный текст:  Если ваш ответ отразительен, то вы упали в нужное место.\n",
      "Обработка аудио...\n",
      "📝 Распознанный текст:  место. На линг вот...\n",
      "Обработка аудио...\n",
      "📝 Распознанный текст:  На Lingoa.com есть тексты на русском языке.\n",
      "Обработка аудио...\n",
      "📝 Распознанный текст:  на русском языке.\n",
      "Обработка аудио...\n",
      "📝 Распознанный текст: \n",
      "Обработка аудио...\n",
      "📝 Распознанный текст:  Опа, так.\n",
      "Обработка аудио...\n",
      "📝 Распознанный текст:  Задержка идет, да?\n",
      "Обработка аудио...\n",
      "📝 Распознанный текст:  короче я написал какую-то программку которая работает в режиме\n",
      "Обработка аудио...\n",
      "📝 Распознанный текст:  которая работает в режиме потока.\n",
      "Обработка аудио...\n",
      "📝 Распознанный текст:  потока, вот, и что-то переводит.\n",
      "Обработка аудио...\n",
      "📝 Распознанный текст:  и что-то переводит. Только тут медиум сейчас стоит.\n",
      "Обработка аудио...\n",
      "📝 Распознанный текст:  медиум сейчас стоит. Давай что-то говорить, вот. А вот она прям сейчас работает.\n",
      "Обработка аудио...\n",
      "📝 Распознанный текст:  А вот она прям сейчас работает. Это локально все? Вроде все локально, да.\n",
      "Обработка аудио...\n",
      "📝 Распознанный текст:  Это просто локально всё.\n",
      "Обработка аудио...\n",
      "📝 Распознанный текст:  Да, все сказала.\n",
      "Обработка аудио...\n",
      "📝 Распознанный текст:  До встречи!\n",
      "Обработка аудио...\n",
      "📝 Распознанный текст:  То есть, ну вот, что-то говорили? Ну, говорите что-нибудь.\n",
      "Обработка аудио...\n",
      "📝 Распознанный текст:  Говорите что-нибудь.\n",
      "Обработка аудио...\n",
      "\n",
      "Остановка программы...\n"
     ]
    }
   ],
   "source": [
    "# Функция обработки аудио в фоне\n",
    "def callback(indata, frames, time, status):\n",
    "    \"\"\"Функция обратного вызова, получает аудиоданные\"\"\"\n",
    "    if status:\n",
    "        print(status)\n",
    "    # Добавляем новый кусок в очередь\n",
    "    audio_queue.put(indata.copy())\n",
    "\n",
    "# Запускаем потоковую запись\n",
    "with sd.InputStream(samplerate=SAMPLERATE, channels=CHANNELS, dtype='float32', callback=callback, blocksize=int(SAMPLERATE * (CHUNK_DURATION - OVERLAP))):\n",
    "    print(\"Началась запись. Нажмите Ctrl+C для остановки.\")\n",
    "    \n",
    "    # Кольцевой буфер для хранения аудиоданных\n",
    "    ring_buffer = np.zeros(int(SAMPLERATE * CHUNK_DURATION), dtype=np.float32)\n",
    "    \n",
    "    try:\n",
    "        while True:\n",
    "            # Получаем новый кусок\n",
    "            new_chunk = audio_queue.get()\n",
    "            new_chunk = new_chunk[:, 0]  # Убираем лишнее измерение (канал)\n",
    "            \n",
    "            # Обновляем кольцевой буфер (сдвигаем влево, добавляем новый кусок справа)\n",
    "            ring_buffer[:-len(new_chunk)] = ring_buffer[len(new_chunk):]\n",
    "            ring_buffer[-len(new_chunk):] = new_chunk\n",
    "\n",
    "            # Передаем в Whisper (Whisper сам обработает тишину)\n",
    "            print(\"Обработка аудио...\")\n",
    "            result = model.transcribe(ring_buffer, language=LANGUAGE)\n",
    "            print(\"📝 Распознанный текст:\", result[\"text\"])\n",
    "\n",
    "    except KeyboardInterrupt:\n",
    "        print(\"\\nОстановка программы...\")\n"
   ]
  },
  {
   "cell_type": "code",
   "execution_count": null,
   "id": "1f5ac75e-76af-468d-95f4-d2d5628adb26",
   "metadata": {},
   "outputs": [],
   "source": []
  }
 ],
 "metadata": {
  "kernelspec": {
   "display_name": "Python 3 (ipykernel)",
   "language": "python",
   "name": "python3"
  },
  "language_info": {
   "codemirror_mode": {
    "name": "ipython",
    "version": 3
   },
   "file_extension": ".py",
   "mimetype": "text/x-python",
   "name": "python",
   "nbconvert_exporter": "python",
   "pygments_lexer": "ipython3",
   "version": "3.11.9"
  }
 },
 "nbformat": 4,
 "nbformat_minor": 5
}
