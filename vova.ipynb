{
 "cells": [
  {
   "cell_type": "code",
   "execution_count": 3,
   "metadata": {},
   "outputs": [
    {
     "name": "stdout",
     "output_type": "stream",
     "text": [
      "Аудио файл успешно сохранен в downloaded_audio.mp3\n"
     ]
    }
   ],
   "source": [
    "import requests\n",
    "\n",
    "def stream_audio(text: str, save_path: str):\n",
    "    url = \"http://176.114.66.227:8000/stream-audio\"\n",
    "    data = {\"text\": text}\n",
    "\n",
    "    try:\n",
    "        response = requests.post(url, json=data, stream=True)\n",
    "        response.raise_for_status()\n",
    "\n",
    "        with open(save_path, 'wb') as f:\n",
    "            for chunk in response.iter_content(chunk_size=8192):\n",
    "                if chunk:\n",
    "                    f.write(chunk)\n",
    "\n",
    "        print(f\"Аудио файл успешно сохранен в {save_path}\")\n",
    "\n",
    "    except requests.exceptions.RequestException as e:\n",
    "        print(f\"Ошибка при получении аудио: {e}\")\n",
    "\n",
    "if __name__ == \"__main__\":\n",
    "    text = \"The quick brown fox jumps over the lazy dog.\"\n",
    "    save_path = \"downloaded_audio.mp3\"\n",
    "    stream_audio(text, save_path)\n"
   ]
  },
  {
   "cell_type": "code",
   "execution_count": 5,
   "metadata": {},
   "outputs": [
    {
     "name": "stdout",
     "output_type": "stream",
     "text": [
      "Аудио файл сохранен в downloaded_audio.mp3\n"
     ]
    }
   ],
   "source": [
    "import requests\n",
    "\n",
    "def stream_audio(text: str, lang: str, save_path: str):\n",
    "    \"\"\"Отправляет текст на сервер и сохраняет аудиофайл.\"\"\"\n",
    "    url = \"http://176.114.66.227:8000/stream-audio\"\n",
    "    data = {\"text\": text, \"lang\": lang}\n",
    "\n",
    "    try:\n",
    "        response = requests.post(url, json=data, stream=True)\n",
    "        response.raise_for_status()\n",
    "\n",
    "        with open(save_path, 'wb') as f:\n",
    "            for chunk in response.iter_content(chunk_size=8192):\n",
    "                if chunk:\n",
    "                    f.write(chunk)\n",
    "\n",
    "        print(f\"Аудио файл сохранен в {save_path}\")\n",
    "\n",
    "    except requests.exceptions.RequestException as e:\n",
    "        print(f\"Ошибка при получении аудио: {e}\")\n",
    "\n",
    "if __name__ == \"__main__\":\n",
    "    # Ввод текста и выбора языка\n",
    "    text = \"Yellowstone National Park\"\n",
    "    lang = 'en'  # ru или en\n",
    "\n",
    "    if lang not in [\"en\", \"ru\"]:\n",
    "        print(\"Некорректный выбор языка. Используйте 'en' или 'ru'.\")\n",
    "    else:\n",
    "        save_path = f\"downloaded_audio.mp3\"\n",
    "        stream_audio(text, lang, save_path)\n"
   ]
  },
  {
   "cell_type": "code",
   "execution_count": null,
   "metadata": {},
   "outputs": [],
   "source": []
  }
 ],
 "metadata": {
  "kernelspec": {
   "display_name": ".venv",
   "language": "python",
   "name": "python3"
  },
  "language_info": {
   "codemirror_mode": {
    "name": "ipython",
    "version": 3
   },
   "file_extension": ".py",
   "mimetype": "text/x-python",
   "name": "python",
   "nbconvert_exporter": "python",
   "pygments_lexer": "ipython3",
   "version": "3.11.9"
  }
 },
 "nbformat": 4,
 "nbformat_minor": 2
}
